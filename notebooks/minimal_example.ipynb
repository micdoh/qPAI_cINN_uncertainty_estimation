{
 "cells": [
  {
   "cell_type": "code",
   "execution_count": 5,
   "outputs": [
    {
     "ename": "IndexError",
     "evalue": "tuple index out of range",
     "output_type": "error",
     "traceback": [
      "\u001B[1;31m---------------------------------------------------------------------------\u001B[0m",
      "\u001B[1;31mIndexError\u001B[0m                                Traceback (most recent call last)",
      "Input \u001B[1;32mIn [5]\u001B[0m, in \u001B[0;36m<cell line: 40>\u001B[1;34m()\u001B[0m\n\u001B[0;32m     39\u001B[0m inn \u001B[38;5;241m=\u001B[39m SequenceINN()\n\u001B[0;32m     40\u001B[0m \u001B[38;5;28;01mfor\u001B[39;00m i \u001B[38;5;129;01min\u001B[39;00m \u001B[38;5;28mrange\u001B[39m(n_blocks):\n\u001B[1;32m---> 41\u001B[0m     \u001B[43minn\u001B[49m\u001B[38;5;241;43m.\u001B[39;49m\u001B[43mappend\u001B[49m\u001B[43m(\u001B[49m\u001B[43mAllInOneBlock\u001B[49m\u001B[43m,\u001B[49m\u001B[43m \u001B[49m\u001B[43mcond\u001B[49m\u001B[38;5;241;43m=\u001B[39;49m\u001B[38;5;241;43m0\u001B[39;49m\u001B[43m,\u001B[49m\u001B[43m \u001B[49m\u001B[43mcond_shape\u001B[49m\u001B[38;5;241;43m=\u001B[39;49m\u001B[43m(\u001B[49m\u001B[38;5;241;43m4100\u001B[39;49m\u001B[43m,\u001B[49m\u001B[43m \u001B[49m\u001B[38;5;241;43m1\u001B[39;49m\u001B[43m)\u001B[49m\u001B[43m,\u001B[49m\u001B[43m \u001B[49m\u001B[43msubnet_constructor\u001B[49m\u001B[38;5;241;43m=\u001B[39;49m\u001B[43msubnet\u001B[49m\u001B[43m)\u001B[49m\n\u001B[0;32m     43\u001B[0m \u001B[38;5;28minput\u001B[39m \u001B[38;5;241m=\u001B[39m torch\u001B[38;5;241m.\u001B[39mrandn(batch_size, \u001B[38;5;241m1\u001B[39m, \u001B[38;5;241m2\u001B[39m)\u001B[38;5;241m.\u001B[39mnormal_()\n\u001B[0;32m     44\u001B[0m cond \u001B[38;5;241m=\u001B[39m cond_nn(torch\u001B[38;5;241m.\u001B[39mrandn(batch_size, \u001B[38;5;241m4100\u001B[39m, \u001B[38;5;241m1\u001B[39m))\n",
      "File \u001B[1;32m~\\AppData\\Local\\pypoetry\\Cache\\virtualenvs\\qpai-cinn-uncertainty-estimation-dfL09TuT-py3.8\\lib\\site-packages\\FrEIA\\framework\\sequence_inn.py:55\u001B[0m, in \u001B[0;36mSequenceINN.append\u001B[1;34m(self, module_class, cond, cond_shape, **kwargs)\u001B[0m\n\u001B[0;32m     52\u001B[0m \u001B[38;5;28;01mif\u001B[39;00m cond \u001B[38;5;129;01mis\u001B[39;00m \u001B[38;5;129;01mnot\u001B[39;00m \u001B[38;5;28;01mNone\u001B[39;00m:\n\u001B[0;32m     53\u001B[0m     kwargs[\u001B[38;5;124m'\u001B[39m\u001B[38;5;124mdims_c\u001B[39m\u001B[38;5;124m'\u001B[39m] \u001B[38;5;241m=\u001B[39m [cond_shape]\n\u001B[1;32m---> 55\u001B[0m module \u001B[38;5;241m=\u001B[39m \u001B[43mmodule_class\u001B[49m\u001B[43m(\u001B[49m\u001B[43mdims_in\u001B[49m\u001B[43m,\u001B[49m\u001B[43m \u001B[49m\u001B[38;5;241;43m*\u001B[39;49m\u001B[38;5;241;43m*\u001B[39;49m\u001B[43mkwargs\u001B[49m\u001B[43m)\u001B[49m\n\u001B[0;32m     56\u001B[0m \u001B[38;5;28mself\u001B[39m\u001B[38;5;241m.\u001B[39mmodule_list\u001B[38;5;241m.\u001B[39mappend(module)\n\u001B[0;32m     57\u001B[0m ouput_dims \u001B[38;5;241m=\u001B[39m module\u001B[38;5;241m.\u001B[39moutput_dims(dims_in)\n",
      "File \u001B[1;32m~\\AppData\\Local\\pypoetry\\Cache\\virtualenvs\\qpai-cinn-uncertainty-estimation-dfL09TuT-py3.8\\lib\\site-packages\\FrEIA\\modules\\all_in_one_block.py:85\u001B[0m, in \u001B[0;36mAllInOneBlock.__init__\u001B[1;34m(self, dims_in, dims_c, subnet_constructor, affine_clamping, gin_block, global_affine_init, global_affine_type, permute_soft, learned_householder_permutation, reverse_permutation)\u001B[0m\n\u001B[0;32m     54\u001B[0m \u001B[38;5;124;03m'''\u001B[39;00m\n\u001B[0;32m     55\u001B[0m \u001B[38;5;124;03mArgs:\u001B[39;00m\n\u001B[0;32m     56\u001B[0m \u001B[38;5;124;03m  subnet_constructor:\u001B[39;00m\n\u001B[1;32m   (...)\u001B[0m\n\u001B[0;32m     80\u001B[0m \u001B[38;5;124;03m    et al, 2019. Turns on the :math:`R^{-1} V^{-1}` pre-multiplication above.\u001B[39;00m\n\u001B[0;32m     81\u001B[0m \u001B[38;5;124;03m'''\u001B[39;00m\n\u001B[0;32m     83\u001B[0m \u001B[38;5;28msuper\u001B[39m()\u001B[38;5;241m.\u001B[39m\u001B[38;5;21m__init__\u001B[39m(dims_in, dims_c)\n\u001B[1;32m---> 85\u001B[0m channels \u001B[38;5;241m=\u001B[39m \u001B[43mdims_in\u001B[49m\u001B[43m[\u001B[49m\u001B[38;5;241;43m0\u001B[39;49m\u001B[43m]\u001B[49m\u001B[43m[\u001B[49m\u001B[38;5;241;43m0\u001B[39;49m\u001B[43m]\u001B[49m\n\u001B[0;32m     86\u001B[0m \u001B[38;5;66;03m# rank of the tensors means 1d, 2d, 3d tensor etc.\u001B[39;00m\n\u001B[0;32m     87\u001B[0m \u001B[38;5;28mself\u001B[39m\u001B[38;5;241m.\u001B[39minput_rank \u001B[38;5;241m=\u001B[39m \u001B[38;5;28mlen\u001B[39m(dims_in[\u001B[38;5;241m0\u001B[39m]) \u001B[38;5;241m-\u001B[39m \u001B[38;5;241m1\u001B[39m\n",
      "\u001B[1;31mIndexError\u001B[0m: tuple index out of range"
     ]
    }
   ],
   "source": [
    "import torch\n",
    "import torch.nn as nn\n",
    "from FrEIA.modules import *\n",
    "from FrEIA.framework import *\n",
    "\n",
    "batch_size = 1\n",
    "seq_length = 41\n",
    "n_features = 1\n",
    "lstm_hidden = 100\n",
    "inn_hidden = 10\n",
    "n_blocks = 6  # No. of invertible blocks in INN\n",
    "\n",
    "lstm = nn.LSTM(\n",
    "    input_size=n_features, # Input dimensions\n",
    "    hidden_size=lstm_hidden, # No. of neurons in gate networks\n",
    "    batch_first=False\n",
    ")\n",
    "\n",
    "class CondNetwork(nn.Module):\n",
    "    def __init__(self):\n",
    "        super().__init__()\n",
    "        self.lstm =  lstm\n",
    "        self.linear = nn.Linear(\n",
    "                in_features=lstm_hidden,\n",
    "                out_features=1\n",
    "        )\n",
    "\n",
    "    def forward(self, x):\n",
    "        out = self.lstm(x)[0]\n",
    "        out = self.linear(out)\n",
    "        return out#torch.reshape(out, (batch_size, -1, 1))\n",
    "\n",
    "def subnet(dims_in, dims_out):\n",
    "    return nn.Sequential(nn.Linear(dims_in, inn_hidden), nn.LeakyReLU(),\n",
    "                         nn.Linear(inn_hidden,  inn_hidden), nn.LeakyReLU(),\n",
    "                         nn.Linear(inn_hidden, dims_out))\n",
    "\n",
    "cond_nn = CondNetwork()\n",
    "inn = SequenceINN()\n",
    "for i in range(n_blocks):\n",
    "    inn.append(AllInOneBlock, cond=0, cond_shape=(4100, 1), subnet_constructor=subnet)\n",
    "\n",
    "input = torch.randn(batch_size, 1, 2).normal_()\n",
    "cond = cond_nn(torch.randn(batch_size, 4100, 1))\n",
    "z = inn(input, c=[cond])"
   ],
   "metadata": {
    "collapsed": false,
    "pycharm": {
     "name": "#%%\n"
    }
   }
  },
  {
   "cell_type": "code",
   "execution_count": 1,
   "outputs": [],
   "source": [],
   "metadata": {
    "collapsed": false,
    "pycharm": {
     "name": "#%%\n"
    }
   }
  },
  {
   "cell_type": "code",
   "execution_count": null,
   "outputs": [],
   "source": [],
   "metadata": {
    "collapsed": false,
    "pycharm": {
     "name": "#%%\n"
    }
   }
  }
 ],
 "metadata": {
  "kernelspec": {
   "display_name": "Python 3",
   "language": "python",
   "name": "python3"
  },
  "language_info": {
   "codemirror_mode": {
    "name": "ipython",
    "version": 2
   },
   "file_extension": ".py",
   "mimetype": "text/x-python",
   "name": "python",
   "nbconvert_exporter": "python",
   "pygments_lexer": "ipython2",
   "version": "2.7.6"
  }
 },
 "nbformat": 4,
 "nbformat_minor": 0
}