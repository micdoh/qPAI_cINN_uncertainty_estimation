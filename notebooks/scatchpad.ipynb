{
 "cells": [
  {
   "cell_type": "markdown",
   "metadata": {
    "pycharm": {
     "name": "#%% md\n"
    }
   },
   "source": [
    "First, we'll import pytorch and check if a GPU is available."
   ]
  },
  {
   "cell_type": "code",
   "execution_count": 1,
   "outputs": [
    {
     "name": "stdout",
     "output_type": "stream",
     "text": [
      "CPU only\n"
     ]
    }
   ],
   "source": [
    "import torch\n",
    "import torch.nn as nn\n",
    "import random\n",
    "import numpy as np\n",
    "from FrEIA.modules import *\n",
    "from FrEIA.framework import *\n",
    "from pathlib import Path\n",
    "from torch.utils.data import Dataset, DataLoader\n",
    "\n",
    "if torch.cuda.is_available():\n",
    "    print('GPU available')\n",
    "else:\n",
    "    print('CPU only')"
   ],
   "metadata": {
    "collapsed": false,
    "pycharm": {
     "name": "#%%\n"
    }
   }
  },
  {
   "cell_type": "code",
   "execution_count": 1,
   "outputs": [],
   "source": [],
   "metadata": {
    "collapsed": false,
    "pycharm": {
     "name": "#%%\n"
    }
   }
  },
  {
   "cell_type": "markdown",
   "source": [
    "Next, define the path to the data we're using"
   ],
   "metadata": {
    "collapsed": false,
    "pycharm": {
     "name": "#%% md\n"
    }
   }
  },
  {
   "cell_type": "code",
   "execution_count": 2,
   "outputs": [],
   "source": [
    "data_path = Path('C:\\\\Users\\\\dohert01\\\\PycharmProjects\\\\qPAI_cINN_uncertainty_estimation\\\\datasets')\n",
    "experiment_name = \"FlowPhantom_insilico_complicated\""
   ],
   "metadata": {
    "collapsed": false,
    "pycharm": {
     "name": "#%%\n"
    }
   }
  },
  {
   "cell_type": "markdown",
   "source": [
    "Let's have a look at the data. First of all, borrow some normalisation functions..."
   ],
   "metadata": {
    "collapsed": false,
    "pycharm": {
     "name": "#%% md\n"
    }
   }
  },
  {
   "cell_type": "code",
   "execution_count": 3,
   "outputs": [],
   "source": [
    "def spectrum_normalisation(spectrum):\n",
    "    \"\"\"Applies z-score scaling to the initial pressure spectrum\"\"\"\n",
    "    mean = np.mean(spectrum)\n",
    "    std = np.std(spectrum)\n",
    "    norm = (spectrum - mean)/std\n",
    "    return norm\n",
    "\n",
    "def spectrum_processing(spectrum, allowed_datapoints):\n",
    "    \"\"\"Returns a normalised initial pressure spectrum with some of the values zeroed out\"\"\"\n",
    "    num_non_zero_datapoints = random.choice(allowed_datapoints)\n",
    "    a = np.zeros(len(spectrum))\n",
    "    a[:num_non_zero_datapoints] = 1\n",
    "    np.random.shuffle(a)\n",
    "\n",
    "    incomplete_spectrum = list(np.multiply(a, np.array(spectrum)))\n",
    "    non_zero_indices = np.nonzero(incomplete_spectrum)\n",
    "    non_zero_values = list(filter(None,incomplete_spectrum))\n",
    "    normalised_non_zero = spectrum_normalisation(non_zero_values)\n",
    "\n",
    "    i = 0\n",
    "    for index in non_zero_indices[0]:\n",
    "        incomplete_spectrum[index] = normalised_non_zero[i]\n",
    "        i+=1\n",
    "\n",
    "    normalised_incomplete_spectrum = np.array(incomplete_spectrum)\n",
    "\n",
    "    return normalised_incomplete_spectrum\n",
    "\n",
    "def batch_spectrum_processing(batch, allowed_datapoints):\n",
    "    processed = []\n",
    "\n",
    "    for spectrum in batch:\n",
    "\n",
    "        processed.append(spectrum_processing(spectrum, allowed_datapoints))\n",
    "    return torch.tensor(np.array(processed))"
   ],
   "metadata": {
    "collapsed": false,
    "pycharm": {
     "name": "#%%\n"
    }
   }
  },
  {
   "cell_type": "markdown",
   "source": [
    "Let's load the data from file"
   ],
   "metadata": {
    "collapsed": false,
    "pycharm": {
     "name": "#%% md\n"
    }
   }
  },
  {
   "cell_type": "code",
   "execution_count": 4,
   "outputs": [],
   "source": [
    "training_spectra_file = data_path / experiment_name / \"training_spectra.pt\"\n",
    "validation_spectra_file = data_path / experiment_name / \"validation_spectra.pt\"\n",
    "test_spectra_file = data_path / experiment_name / \"test_spectra.pt\"\n",
    "\n",
    "training_oxygenations_file = data_path / experiment_name / \"training_oxygenations.pt\"\n",
    "validation_oxygenations_file = data_path / experiment_name / \"validation_oxygenations.pt\"\n",
    "test_oxygenations_file = data_path / experiment_name / \"test_oxygenations.pt\"\n",
    "\n",
    "train_spectra_original = torch.load(training_spectra_file)\n",
    "train_oxygenations_original = torch.load(training_oxygenations_file)\n",
    "validation_spectra_original = torch.load(validation_spectra_file)\n",
    "validation_oxygenations_original = torch.load(validation_oxygenations_file)\n",
    "test_spectra_original = torch.load(test_spectra_file)\n",
    "test_oxygenations_original = torch.load(test_oxygenations_file)"
   ],
   "metadata": {
    "collapsed": false,
    "pycharm": {
     "name": "#%%\n"
    }
   }
  },
  {
   "cell_type": "markdown",
   "source": [
    "Now let's look at the dimensions"
   ],
   "metadata": {
    "collapsed": false,
    "pycharm": {
     "name": "#%% md\n"
    }
   }
  },
  {
   "cell_type": "code",
   "execution_count": 5,
   "outputs": [
    {
     "name": "stdout",
     "output_type": "stream",
     "text": [
      "torch.Size([134624, 41])\n",
      "torch.Size([134624])\n",
      "tensor([634.9278, 600.2585, 600.2339, 587.4062, 580.4452, 573.9892, 582.9027,\n",
      "        597.7095, 601.8840, 641.6681, 655.6356, 704.5982, 730.0311, 739.1377,\n",
      "        762.7631, 768.2003, 789.5642, 808.6349, 811.7870, 835.5294, 866.5328,\n",
      "        886.8488, 918.7031, 905.1712, 913.7165, 913.7761, 913.4937, 919.7126,\n",
      "        915.4688, 919.2101, 887.4873, 870.8792, 905.5049, 883.7628, 876.9416,\n",
      "        888.4904, 881.3424, 888.5063, 892.4427, 879.3855, 869.1013],\n",
      "       dtype=torch.float64)\n"
     ]
    }
   ],
   "source": [
    "print(train_spectra_original.size())\n",
    "print(train_oxygenations_original.size())\n",
    "print(train_spectra_original[0])"
   ],
   "metadata": {
    "collapsed": false,
    "pycharm": {
     "name": "#%%\n"
    }
   }
  },
  {
   "cell_type": "code",
   "execution_count": 6,
   "outputs": [],
   "source": [
    "# Zeroing out some of the spectrum data (randomly) and normalising\n",
    "allowed_datapoints = [10]\n",
    "\n",
    "train_spectra = batch_spectrum_processing(train_spectra_original, allowed_datapoints)\n",
    "validation_spectra = batch_spectrum_processing(validation_spectra_original, allowed_datapoints)\n",
    "test_spectra = batch_spectrum_processing(test_spectra_original, allowed_datapoints)"
   ],
   "metadata": {
    "collapsed": false,
    "pycharm": {
     "name": "#%%\n"
    }
   }
  },
  {
   "cell_type": "code",
   "execution_count": 8,
   "outputs": [],
   "source": [
    "# Reshaping initial pressure spectra to fit LSTM input size\n",
    "train_spectra = torch.reshape(train_spectra, (len(train_spectra), len(train_spectra[0]), 1))\n",
    "validation_spectra = torch.reshape(validation_spectra, (len(validation_spectra), len(validation_spectra[0]), 1))\n",
    "test_spectra = torch.reshape(test_spectra, (len(test_spectra), len(test_spectra[0]), 1))\n",
    "\n",
    "train_oxygenations = torch.reshape(train_oxygenations_original,(len(train_oxygenations_original),1))\n",
    "validation_oxygenations = torch.reshape(validation_oxygenations_original,(len(validation_oxygenations_original),1))\n",
    "test_oxygenations = torch.tensor(np.float32(test_oxygenations_original))\n",
    "test_oxygenations = torch.reshape(test_oxygenations_original,(len(test_oxygenations_original),1))"
   ],
   "metadata": {
    "collapsed": false,
    "pycharm": {
     "name": "#%%\n"
    }
   }
  },
  {
   "cell_type": "code",
   "execution_count": 23,
   "outputs": [],
   "source": [
    "class MultiSpectralPressureO2Dataset(Dataset):\n",
    "    def __init__(self, spectra, oxygenations, transform=None, target_transform=None):\n",
    "        self.data = spectra\n",
    "        self.labels = oxygenations\n",
    "        self.transform = transform\n",
    "        self.target_transform = target_transform\n",
    "\n",
    "    def __len__(self):\n",
    "        return len(self.labels)\n",
    "\n",
    "    def __getitem__(self, idx):\n",
    "        data = self.data[idx]\n",
    "        label = self.labels[idx]\n",
    "        if self.transform:\n",
    "            image = self.transform(data)\n",
    "        if self.target_transform:\n",
    "            label = self.target_transform(label)\n",
    "        return data, label"
   ],
   "metadata": {
    "collapsed": false,
    "pycharm": {
     "name": "#%%\n"
    }
   }
  },
  {
   "cell_type": "code",
   "execution_count": 33,
   "outputs": [],
   "source": [
    "training_dataset = MultiSpectralPressureO2Dataset(train_spectra, train_oxygenations)\n",
    "training_dataloader = DataLoader(training_dataset, batch_size=2048, shuffle=True)\n",
    "data, label = next(iter(training_dataloader))\n",
    "print(data[0])\n",
    "print(label[0])"
   ],
   "metadata": {
    "collapsed": false,
    "pycharm": {
     "name": "#%%\n"
    }
   }
  },
  {
   "cell_type": "markdown",
   "source": [
    "Time to define the model... (both LSTM and INN)"
   ],
   "metadata": {
    "collapsed": false,
    "pycharm": {
     "name": "#%% md\n"
    }
   }
  },
  {
   "cell_type": "code",
   "execution_count": 32,
   "outputs": [
    {
     "name": "stdout",
     "output_type": "stream",
     "text": [
      "tensor([[ 0.0000],\n",
      "        [ 0.0000],\n",
      "        [ 0.0000],\n",
      "        [ 0.0000],\n",
      "        [ 0.0000],\n",
      "        [ 0.0000],\n",
      "        [-0.3367],\n",
      "        [ 0.0000],\n",
      "        [-0.4733],\n",
      "        [ 0.0000],\n",
      "        [ 0.0000],\n",
      "        [ 0.0000],\n",
      "        [ 2.5467],\n",
      "        [ 0.0000],\n",
      "        [ 0.0000],\n",
      "        [ 0.0000],\n",
      "        [ 0.0000],\n",
      "        [ 0.6764],\n",
      "        [ 0.0000],\n",
      "        [ 0.0000],\n",
      "        [ 0.0000],\n",
      "        [ 0.0000],\n",
      "        [ 0.2532],\n",
      "        [ 0.1733],\n",
      "        [ 0.0000],\n",
      "        [ 0.0000],\n",
      "        [ 0.0000],\n",
      "        [ 0.0000],\n",
      "        [ 0.0000],\n",
      "        [-0.2104],\n",
      "        [-0.7148],\n",
      "        [-0.6127],\n",
      "        [ 0.0000],\n",
      "        [ 0.0000],\n",
      "        [ 0.0000],\n",
      "        [ 0.0000],\n",
      "        [ 0.0000],\n",
      "        [ 0.0000],\n",
      "        [ 0.0000],\n",
      "        [ 0.0000],\n",
      "        [-1.3017]], dtype=torch.float64)\n",
      "tensor([0.4330], dtype=torch.float64)\n"
     ]
    }
   ],
   "source": [
    "# Define the subnet for the invertible blocks (use the AllInOneBlack from FrEIA)\n",
    "def subnet(dims_in, dims_out):\n",
    "    return nn.Sequential(nn.Linear(dims_in, 256), nn.ReLU(),\n",
    "                         nn.Linear(256, dims_out))\n",
    "# Define the LSTM for the conditioning network\n",
    "lstm_layer = nn.LSTM(41, 100, 1, batch_first=True)\n",
    "# Define the GraphINN that combines the nodes\n",
    "nodes = [InputNode(41, 1, name='input')]\n",
    "conditions = [ConditionNode]\n",
    "for i in range(n_blocks):\n",
    "    nodes.append(AllInOneBlock(41, 1, subnet_constructor=))\n",
    "GraphINN(nodes + conditions)"
   ],
   "metadata": {
    "collapsed": false,
    "pycharm": {
     "name": "#%%\n"
    }
   }
  },
  {
   "cell_type": "markdown",
   "source": [
    "Time to define the training loop..."
   ],
   "metadata": {
    "collapsed": false,
    "pycharm": {
     "name": "#%% md\n"
    }
   }
  }
 ],
 "metadata": {
  "kernelspec": {
   "display_name": "Python 3",
   "language": "python",
   "name": "python3"
  },
  "language_info": {
   "codemirror_mode": {
    "name": "ipython",
    "version": 3
   },
   "file_extension": ".py",
   "mimetype": "text/x-python",
   "name": "python",
   "nbconvert_exporter": "python",
   "pygments_lexer": "ipython3",
   "version": "3.9.1"
  }
 },
 "nbformat": 4,
 "nbformat_minor": 4
}