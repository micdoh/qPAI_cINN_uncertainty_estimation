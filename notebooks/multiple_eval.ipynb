{
 "cells": [
  {
   "cell_type": "code",
   "execution_count": null,
   "metadata": {
    "collapsed": true,
    "pycharm": {
     "name": "#%%\n"
    }
   },
   "outputs": [],
   "source": []
  },
  {
   "cell_type": "code",
   "execution_count": 1,
   "outputs": [
    {
     "name": "stdout",
     "output_type": "stream",
     "text": [
      "CPU only\n"
     ]
    }
   ],
   "source": [
    "import numpy as np\n",
    "import pandas as pd\n",
    "import qPAI_cINN_uncertainty_estimation.config as c\n",
    "import matplotlib.pyplot as plt"
   ],
   "metadata": {
    "collapsed": false,
    "pycharm": {
     "name": "#%%\n"
    }
   }
  },
  {
   "cell_type": "code",
   "execution_count": 4,
   "outputs": [],
   "source": [
    "output_csv = c.output_dir / 'multiple_eval.csv'\n",
    "df = pd.read_csv(output_csv)"
   ],
   "metadata": {
    "collapsed": false,
    "pycharm": {
     "name": "#%%\n"
    }
   }
  },
  {
   "cell_type": "code",
   "execution_count": 5,
   "outputs": [
    {
     "name": "stdout",
     "output_type": "stream",
     "text": [
      "     Unnamed: 0                         name partitioned_eval  sparsity_eval  \\\n",
      "0             0        phantom_3_partitioned             part              3   \n",
      "1             1        phantom_3_partitioned             part              5   \n",
      "2             2        phantom_3_partitioned             part             10   \n",
      "3             3        phantom_3_partitioned             part             25   \n",
      "4             4        phantom_3_partitioned             part             40   \n",
      "..          ...                          ...              ...            ...   \n",
      "235         235  generic_flexi_unpartitioned           unpart              3   \n",
      "236         236  generic_flexi_unpartitioned           unpart              5   \n",
      "237         237  generic_flexi_unpartitioned           unpart             10   \n",
      "238         238  generic_flexi_unpartitioned           unpart             25   \n",
      "239         239  generic_flexi_unpartitioned           unpart             40   \n",
      "\n",
      "     med_calib_err  calib_err_68  med_uncert_68  med_rel_err  iqr_lower  \\\n",
      "0         0.052807      0.094494       0.303917    15.171398   6.700766   \n",
      "1         0.004315     -0.003225       0.255647    17.400394   7.843438   \n",
      "2         0.088689     -0.140150       0.174832    20.598573   8.804126   \n",
      "3         0.092485     -0.135955       0.150100    19.499489   8.376560   \n",
      "4         0.092096     -0.128780       0.131266    18.259253   8.498742   \n",
      "..             ...           ...            ...          ...        ...   \n",
      "235       0.041450     -0.064172       0.375454    27.850483  14.085893   \n",
      "236       0.017911     -0.023466       0.352477    24.203234  12.086894   \n",
      "237       0.016298     -0.016724       0.314061    21.281069  10.399338   \n",
      "238       0.015752     -0.010064       0.277370    18.803501   8.977960   \n",
      "239       0.013594     -0.005569       0.260784    17.889217   8.397035   \n",
      "\n",
      "     iqr_upper  \n",
      "0    37.575650  \n",
      "1    37.649598  \n",
      "2    36.218701  \n",
      "3    34.532553  \n",
      "4    30.073828  \n",
      "..         ...  \n",
      "235  48.454608  \n",
      "236  45.000414  \n",
      "237  42.189127  \n",
      "238  39.494728  \n",
      "239  38.938120  \n",
      "\n",
      "[240 rows x 10 columns]\n"
     ]
    }
   ],
   "source": [
    "print(df)"
   ],
   "metadata": {
    "collapsed": false,
    "pycharm": {
     "name": "#%%\n"
    }
   }
  },
  {
   "cell_type": "code",
   "execution_count": 23,
   "outputs": [],
   "source": [
    "df_phantom = df[df.name.str.startswith('p')]\n",
    "df_generic = df[df.name.str.startswith('g')]\n",
    "df_melanin = df[df.name.str.startswith('m')]"
   ],
   "metadata": {
    "collapsed": false,
    "pycharm": {
     "name": "#%%\n"
    }
   }
  },
  {
   "cell_type": "code",
   "execution_count": 92,
   "outputs": [
    {
     "data": {
      "text/plain": "           Median relative error and IQR                      \\\nTraining                     partitioned                       \nEvaluation                          part              unpart   \nSparsity                                                       \n3                     15.2% (6.7, 37.6)%  22.5% (9.8, 52.8)%   \n5                     11.2% (4.5, 30.9)%  16.1% (6.5, 38.9)%   \n10                     3.6% (1.4, 15.3)%   8.9% (3.5, 26.3)%   \n25                      1.6% (0.5, 6.2)%   3.0% (1.1, 13.0)%   \n40                      1.6% (0.5, 6.7)%    1.6% (0.5, 7.6)%   \n\n                                                    \nTraining         unpartitioned                      \nEvaluation                part              unpart  \nSparsity                                            \n3           18.1% (8.5, 40.7)%  19.3% (8.6, 44.2)%  \n5           10.2% (3.9, 34.3)%  11.6% (4.1, 34.5)%  \n10           4.4% (1.7, 17.0)%   6.6% (2.2, 21.9)%  \n25            2.0% (0.7, 9.9)%    2.4% (0.8, 7.9)%  \n40            1.4% (0.5, 5.7)%    1.3% (0.4, 5.2)%  ",
      "text/html": "<div>\n<style scoped>\n    .dataframe tbody tr th:only-of-type {\n        vertical-align: middle;\n    }\n\n    .dataframe tbody tr th {\n        vertical-align: top;\n    }\n\n    .dataframe thead tr th {\n        text-align: left;\n    }\n\n    .dataframe thead tr:last-of-type th {\n        text-align: right;\n    }\n</style>\n<table border=\"1\" class=\"dataframe\">\n  <thead>\n    <tr>\n      <th></th>\n      <th colspan=\"4\" halign=\"left\">Median relative error and IQR</th>\n    </tr>\n    <tr>\n      <th>Training</th>\n      <th colspan=\"2\" halign=\"left\">partitioned</th>\n      <th colspan=\"2\" halign=\"left\">unpartitioned</th>\n    </tr>\n    <tr>\n      <th>Evaluation</th>\n      <th>part</th>\n      <th>unpart</th>\n      <th>part</th>\n      <th>unpart</th>\n    </tr>\n    <tr>\n      <th>Sparsity</th>\n      <th></th>\n      <th></th>\n      <th></th>\n      <th></th>\n    </tr>\n  </thead>\n  <tbody>\n    <tr>\n      <th>3</th>\n      <td>15.2% (6.7, 37.6)%</td>\n      <td>22.5% (9.8, 52.8)%</td>\n      <td>18.1% (8.5, 40.7)%</td>\n      <td>19.3% (8.6, 44.2)%</td>\n    </tr>\n    <tr>\n      <th>5</th>\n      <td>11.2% (4.5, 30.9)%</td>\n      <td>16.1% (6.5, 38.9)%</td>\n      <td>10.2% (3.9, 34.3)%</td>\n      <td>11.6% (4.1, 34.5)%</td>\n    </tr>\n    <tr>\n      <th>10</th>\n      <td>3.6% (1.4, 15.3)%</td>\n      <td>8.9% (3.5, 26.3)%</td>\n      <td>4.4% (1.7, 17.0)%</td>\n      <td>6.6% (2.2, 21.9)%</td>\n    </tr>\n    <tr>\n      <th>25</th>\n      <td>1.6% (0.5, 6.2)%</td>\n      <td>3.0% (1.1, 13.0)%</td>\n      <td>2.0% (0.7, 9.9)%</td>\n      <td>2.4% (0.8, 7.9)%</td>\n    </tr>\n    <tr>\n      <th>40</th>\n      <td>1.6% (0.5, 6.7)%</td>\n      <td>1.6% (0.5, 7.6)%</td>\n      <td>1.4% (0.5, 5.7)%</td>\n      <td>1.3% (0.4, 5.2)%</td>\n    </tr>\n  </tbody>\n</table>\n</div>"
     },
     "execution_count": 92,
     "metadata": {},
     "output_type": "execute_result"
    }
   ],
   "source": [
    "df = pd.read_csv(output_csv)\n",
    "df = df[df.name.str.startswith('p')]  # Phantom only\n",
    "#df = df[~df.name.str.contains('flexi')]  # Non-flexi only\n",
    "phantom_best_rows_part = []\n",
    "for train in ['_partitioned', 'unpartitioned']:\n",
    "    for eval_part in [['part'], ['unpart']]:\n",
    "        for sparsity in [3, 5, 10, 25, 40]:\n",
    "            row = df[(df.name.str.contains(train)) & (df.partitioned_eval.isin(eval_part)) & (df.sparsity_eval == sparsity)].sort_values(by='med_rel_err').head(1).to_dict()\n",
    "            row = {key: [sub_val for sub_val in val.values()][0] for key, val in row.items()}\n",
    "            phantom_best_rows_part.append(row)\n",
    "df = pd.DataFrame(phantom_best_rows_part)\n",
    "df['Training'] = df.name.str.split('_').str[2]\n",
    "df['Evaluation'] = df.partitioned_eval\n",
    "df['Sparsity'] = df.sparsity_eval\n",
    "df = df.round(1)\n",
    "df['Median relative error and IQR'] = df.med_rel_err.astype(str) + '% (' + df.iqr_lower.astype(str) + ', ' + df.iqr_upper.astype(str) + ')%'\n",
    "df.pivot(index='Sparsity', columns=['Training', 'Evaluation'], values=['Median relative error and IQR'])"
   ],
   "metadata": {
    "collapsed": false,
    "pycharm": {
     "name": "#%%\n"
    }
   }
  },
  {
   "cell_type": "code",
   "execution_count": 90,
   "outputs": [],
   "source": [
    "df = pd.read_csv(output_csv)"
   ],
   "metadata": {
    "collapsed": false,
    "pycharm": {
     "name": "#%%\n"
    }
   }
  },
  {
   "cell_type": "code",
   "execution_count": 48,
   "outputs": [],
   "source": [],
   "metadata": {
    "collapsed": false,
    "pycharm": {
     "name": "#%%\n"
    }
   }
  },
  {
   "cell_type": "code",
   "execution_count": null,
   "outputs": [],
   "source": [],
   "metadata": {
    "collapsed": false,
    "pycharm": {
     "name": "#%%\n"
    }
   }
  }
 ],
 "metadata": {
  "kernelspec": {
   "display_name": "Python 3",
   "language": "python",
   "name": "python3"
  },
  "language_info": {
   "codemirror_mode": {
    "name": "ipython",
    "version": 2
   },
   "file_extension": ".py",
   "mimetype": "text/x-python",
   "name": "python",
   "nbconvert_exporter": "python",
   "pygments_lexer": "ipython2",
   "version": "2.7.6"
  }
 },
 "nbformat": 4,
 "nbformat_minor": 0
}